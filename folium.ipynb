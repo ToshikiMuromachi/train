{
 "cells": [
  {
   "cell_type": "code",
   "execution_count": null,
   "metadata": {
    "collapsed": true
   },
   "outputs": [],
   "source": [
    "# !pip install folium"
   ]
  },
  {
   "cell_type": "code",
   "execution_count": null,
   "outputs": [],
   "source": [
    "import os,sys,time,re,pickle\n",
    "import random\n",
    "import pandas as pd\n",
    "import numpy as np\n",
    "import matplotlib.pyplot as plt\n",
    "import seaborn as sns\n",
    "\n",
    "from pandas.plotting import register_matplotlib_converters\n",
    "register_matplotlib_converters()\n",
    "%matplotlib inline\n",
    "\n",
    "pd.set_option(\"display.max_rows\", 150)\n",
    "pd.set_option(\"display.max_columns\", 150)\n",
    "\n",
    "import folium"
   ],
   "metadata": {
    "collapsed": false,
    "pycharm": {
     "name": "#%%\n"
    }
   }
  },
  {
   "cell_type": "code",
   "execution_count": null,
   "outputs": [],
   "source": [
    "path = '../input/aiquest/PBL06'\n",
    "\n",
    "#列名を英語に&データの型を前処理したものを読み込み\n",
    "with open('{}/data/pr_data/train.pickle'.format(path),mode='rb') as f:\n",
    "    train = pickle.load(f)\n",
    "with open('{}/data/pr_data/test.pickle'.format(path),mode='rb') as f:\n",
    "    test = pickle.load(f)\n",
    "with open('{}/data/pr_data/stop_station_location.pickle'.format(path),mode='rb') as f:\n",
    "    stop_station_location = pickle.load(f)\n",
    "with open('{}/data/pr_data/tunnel_location.pickle'.format(path),mode='rb') as f:\n",
    "    tunnel_location = pickle.load(f)\n",
    "with open('{}/data/pr_data/diagram.pickle'.format(path),mode='rb') as f:\n",
    "    #行列を置換したデータ\n",
    "    diagram = pickle.load(f)\n",
    "with open('{}/data/pr_data/kanazawa_nosnow.pickle'.format(path),mode='rb') as f:\n",
    "    kanazawa_nosnow = pickle.load(f)\n",
    "with open('{}/data/pr_data/weather.pickle'.format(path),mode='rb') as f:\n",
    "    weather = pickle.load(f)\n",
    "\n",
    "print('train_shape:',train.shape)\n",
    "display(train.head(3))\n",
    "print('test_shape:',test.shape)\n",
    "display(test.head(3))\n",
    "display(stop_station_location.head(1))\n",
    "display(tunnel_location.head(1))\n",
    "display(diagram.head(3))\n",
    "display(kanazawa_nosnow)\n",
    "display(weather.head(1))\n"
   ],
   "metadata": {
    "collapsed": false,
    "pycharm": {
     "name": "#%%\n"
    }
   }
  }
 ],
 "metadata": {
  "language_info": {
   "codemirror_mode": {
    "name": "ipython",
    "version": 2
   },
   "file_extension": ".py",
   "mimetype": "text/x-python",
   "name": "python",
   "nbconvert_exporter": "python",
   "pygments_lexer": "ipython2",
   "version": "2.7.6"
  },
  "kernelspec": {
   "name": "python3",
   "language": "python",
   "display_name": "Python 3"
  },
  "pycharm": {
   "stem_cell": {
    "cell_type": "raw",
    "source": [],
    "metadata": {
     "collapsed": false
    }
   }
  }
 },
 "nbformat": 4,
 "nbformat_minor": 0
}