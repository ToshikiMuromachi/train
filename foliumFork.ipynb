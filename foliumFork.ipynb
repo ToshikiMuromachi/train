{
 "cells": [
  {
   "cell_type": "code",
   "execution_count": 1,
   "metadata": {},
   "outputs": [
    {
     "name": "stdout",
     "output_type": "stream",
     "text": [
      "Collecting folium\n",
      "\u001b[?25l  Downloading https://files.pythonhosted.org/packages/fd/a0/ccb3094026649cda4acd55bf2c3822bb8c277eb11446d13d384e5be35257/folium-0.10.1-py2.py3-none-any.whl (91kB)\n",
      "\u001b[K     |████████████████████████████████| 92kB 2.8MB/s eta 0:00:011\n",
      "\u001b[?25hRequirement already satisfied: jinja2>=2.9 in /Users/toshiki/py37env/lib/python3.7/site-packages (from folium) (2.10.1)\n",
      "Requirement already satisfied: numpy in /Users/toshiki/py37env/lib/python3.7/site-packages (from folium) (1.17.2)\n",
      "Collecting branca>=0.3.0\n",
      "  Downloading https://files.pythonhosted.org/packages/63/36/1c93318e9653f4e414a2e0c3b98fc898b4970e939afeedeee6075dd3b703/branca-0.3.1-py3-none-any.whl\n",
      "Requirement already satisfied: requests in /Users/toshiki/py37env/lib/python3.7/site-packages (from folium) (2.22.0)\n",
      "Requirement already satisfied: MarkupSafe>=0.23 in /Users/toshiki/py37env/lib/python3.7/site-packages (from jinja2>=2.9->folium) (1.1.1)\n",
      "Requirement already satisfied: six in /Users/toshiki/py37env/lib/python3.7/site-packages (from branca>=0.3.0->folium) (1.12.0)\n",
      "Requirement already satisfied: idna<2.9,>=2.5 in /Users/toshiki/py37env/lib/python3.7/site-packages (from requests->folium) (2.8)\n",
      "Requirement already satisfied: urllib3!=1.25.0,!=1.25.1,<1.26,>=1.21.1 in /Users/toshiki/py37env/lib/python3.7/site-packages (from requests->folium) (1.25.7)\n",
      "Requirement already satisfied: chardet<3.1.0,>=3.0.2 in /Users/toshiki/py37env/lib/python3.7/site-packages (from requests->folium) (3.0.4)\n",
      "Requirement already satisfied: certifi>=2017.4.17 in /Users/toshiki/py37env/lib/python3.7/site-packages (from requests->folium) (2019.9.11)\n",
      "Installing collected packages: branca, folium\n",
      "Successfully installed branca-0.3.1 folium-0.10.1\n"
     ]
    }
   ],
   "source": [
    "!pip install folium"
   ]
  },
  {
   "cell_type": "code",
   "execution_count": 2,
   "metadata": {
    "pycharm": {
     "name": "#%%\n"
    }
   },
   "outputs": [],
   "source": [
    "import os,sys,time,re,pickle\n",
    "import random\n",
    "import pandas as pd\n",
    "import numpy as np\n",
    "import matplotlib.pyplot as plt\n",
    "import seaborn as sns\n",
    "\n",
    "from pandas.plotting import register_matplotlib_converters\n",
    "register_matplotlib_converters()\n",
    "%matplotlib inline\n",
    "\n",
    "pd.set_option(\"display.max_rows\", 150)\n",
    "pd.set_option(\"display.max_columns\", 150)\n",
    "\n",
    "import folium"
   ]
  },
  {
   "cell_type": "code",
   "execution_count": 6,
   "metadata": {
    "pycharm": {
     "name": "#%%\n"
    }
   },
   "outputs": [
    {
     "ename": "FileNotFoundError",
     "evalue": "[Errno 2] No such file or directory: '../input//data/pr_data/train.pickle'",
     "output_type": "error",
     "traceback": [
      "\u001b[0;31m---------------------------------------------------------------------------\u001b[0m",
      "\u001b[0;31mFileNotFoundError\u001b[0m                         Traceback (most recent call last)",
      "\u001b[0;32m<ipython-input-6-463f97b5073e>\u001b[0m in \u001b[0;36m<module>\u001b[0;34m\u001b[0m\n\u001b[1;32m      2\u001b[0m \u001b[0;34m\u001b[0m\u001b[0m\n\u001b[1;32m      3\u001b[0m \u001b[0;31m#列名を英語に&データの型を前処理したものを読み込み\u001b[0m\u001b[0;34m\u001b[0m\u001b[0;34m\u001b[0m\u001b[0;34m\u001b[0m\u001b[0m\n\u001b[0;32m----> 4\u001b[0;31m \u001b[0;32mwith\u001b[0m \u001b[0mopen\u001b[0m\u001b[0;34m(\u001b[0m\u001b[0;34m'{}/data/pr_data/train.pickle'\u001b[0m\u001b[0;34m.\u001b[0m\u001b[0mformat\u001b[0m\u001b[0;34m(\u001b[0m\u001b[0mpath\u001b[0m\u001b[0;34m)\u001b[0m\u001b[0;34m,\u001b[0m\u001b[0mmode\u001b[0m\u001b[0;34m=\u001b[0m\u001b[0;34m'rb'\u001b[0m\u001b[0;34m)\u001b[0m \u001b[0;32mas\u001b[0m \u001b[0mf\u001b[0m\u001b[0;34m:\u001b[0m\u001b[0;34m\u001b[0m\u001b[0;34m\u001b[0m\u001b[0m\n\u001b[0m\u001b[1;32m      5\u001b[0m     \u001b[0mtrain\u001b[0m \u001b[0;34m=\u001b[0m \u001b[0mpickle\u001b[0m\u001b[0;34m.\u001b[0m\u001b[0mload\u001b[0m\u001b[0;34m(\u001b[0m\u001b[0mf\u001b[0m\u001b[0;34m)\u001b[0m\u001b[0;34m\u001b[0m\u001b[0;34m\u001b[0m\u001b[0m\n\u001b[1;32m      6\u001b[0m \u001b[0;32mwith\u001b[0m \u001b[0mopen\u001b[0m\u001b[0;34m(\u001b[0m\u001b[0;34m'{}/data/pr_data/test.pickle'\u001b[0m\u001b[0;34m.\u001b[0m\u001b[0mformat\u001b[0m\u001b[0;34m(\u001b[0m\u001b[0mpath\u001b[0m\u001b[0;34m)\u001b[0m\u001b[0;34m,\u001b[0m\u001b[0mmode\u001b[0m\u001b[0;34m=\u001b[0m\u001b[0;34m'rb'\u001b[0m\u001b[0;34m)\u001b[0m \u001b[0;32mas\u001b[0m \u001b[0mf\u001b[0m\u001b[0;34m:\u001b[0m\u001b[0;34m\u001b[0m\u001b[0;34m\u001b[0m\u001b[0m\n",
      "\u001b[0;31mFileNotFoundError\u001b[0m: [Errno 2] No such file or directory: '../input//data/pr_data/train.pickle'"
     ]
    }
   ],
   "source": [
    "path = '../input'\n",
    "\n",
    "#列名を英語に&データの型を前処理したものを読み込み\n",
    "with open('{}/data/pr_data/train.pickle'.format(path),mode='rb') as f:\n",
    "    train = pickle.load(f)\n",
    "with open('{}/data/pr_data/test.pickle'.format(path),mode='rb') as f:\n",
    "    test = pickle.load(f)\n",
    "with open('{}/data/pr_data/stop_station_location.pickle'.format(path),mode='rb') as f:\n",
    "    stop_station_location = pickle.load(f)\n",
    "with open('{}/data/pr_data/tunnel_location.pickle'.format(path),mode='rb') as f:\n",
    "    tunnel_location = pickle.load(f)\n",
    "with open('{}/data/pr_data/diagram.pickle'.format(path),mode='rb') as f:\n",
    "    #行列を置換したデータ\n",
    "    diagram = pickle.load(f)\n",
    "with open('{}/data/pr_data/kanazawa_nosnow.pickle'.format(path),mode='rb') as f:\n",
    "    kanazawa_nosnow = pickle.load(f)\n",
    "with open('{}/data/pr_data/weather.pickle'.format(path),mode='rb') as f:\n",
    "    weather = pickle.load(f)\n",
    "\n",
    "print('train_shape:',train.shape)\n",
    "display(train.head(3))\n",
    "print('test_shape:',test.shape)\n",
    "display(test.head(3))\n",
    "display(stop_station_location.head(1))\n",
    "display(tunnel_location.head(1))\n",
    "display(diagram.head(3))\n",
    "display(kanazawa_nosnow)\n",
    "display(weather.head(1))\n"
   ]
  },
  {
   "cell_type": "code",
   "execution_count": null,
   "metadata": {},
   "outputs": [],
   "source": [
    "train_shape: (15315, 10)"
   ]
  },
  {
   "cell_type": "code",
   "execution_count": null,
   "metadata": {},
   "outputs": [],
   "source": [
    "test_shape: (2430, 7)"
   ]
  },
  {
   "cell_type": "code",
   "execution_count": null,
   "metadata": {},
   "outputs": [],
   "source": [
    "array([2290,  552, 3502, 9536,  554, 2292, 3506, 3508,  560,  564,  566,\n",
    "        568, 8528, 8530, 3510,  572, 8532, 3512, 3514, 3516,  728,  734],\n",
    "      dtype=int32)"
   ]
  },
  {
   "cell_type": "markdown",
   "metadata": {},
   "source": [
    "## 2.foliumでのマッピング"
   ]
  },
  {
   "cell_type": "code",
   "execution_count": null,
   "metadata": {},
   "outputs": [],
   "source": [
    "#foliumでのマッピング\n",
    "map1 = folium.Map(location=[36.876868, 137.247129], zoom_start=9,tiles='openstreetmap')\n",
    "\n",
    "#駅情報のマッピング、各停は青色\n",
    "for l in stop_station_location.values.tolist():\n",
    "    if l[0] in ['金沢','富山','長野']:\n",
    "        c = 'red'\n",
    "    else:\n",
    "        c = 'blue'\n",
    "    folium.Marker([l[2],l[3]], popup='{}駅'.format(l[0]),icon=folium.Icon(color=c)).add_to(map1)\n",
    "\n",
    "#トンネルの座標をマッピング\n",
    "for tl in tunnel_location.values.tolist():\n",
    "    folium.PolyLine([[tl[3],tl[4]],[tl[5],tl[6]]], popup=tl[0],color=\"green\", weight=5, opacity=1).add_to(map1)\n",
    "map1.save('{}/data/map1.html'.format(path))\n",
    "display(map1)"
   ]
  },
  {
   "cell_type": "code",
   "execution_count": null,
   "metadata": {},
   "outputs": [],
   "source": [
    "#トンネルの長さを求める\n",
    "tunnel_length = tunnel_location.copy().set_index('tunnel_name').astype(float)\n",
    "tunnel_length['tunnel_length'] = tunnel_length['end_length']-tunnel_length['start_length']\n",
    "station_data = stop_station_location[['stop_station','longitude','latitude','length']].copy().rename(columns={'length':'total_length'})\n",
    "station_data['length'] = station_data['total_length'].diff()\n",
    "\n",
    "#トンネルごとにどの駅区間に存在するか\n",
    "station_li = list(reversed(station_data.values.tolist()))\n",
    "for i, sl in enumerate(station_li):\n",
    "    if i == 0:\n",
    "        continue\n",
    "    else:\n",
    "        tunnel_length.loc[tunnel_length['start_latitude'] <sl[2],'stop_station'] = sl[0]\n",
    "\n",
    "station_data = pd.merge(station_data,tunnel_length.groupby('stop_station')['tunnel_length'].sum(),how='left',left_on='stop_station',right_index=True)\n",
    "\n",
    "#トンネルない区間の長さを求める\n",
    "station_data['field_length'] = station_data['length'] - station_data['tunnel_length']\n",
    "station_data['field_total_length'] = station_data['field_length'].cumsum()\n",
    "display(station_data.head())"
   ]
  },
  {
   "cell_type": "markdown",
   "metadata": {},
   "source": [
    "## おまけEDA：屋外距離と着雪量の関係"
   ]
  },
  {
   "cell_type": "code",
   "execution_count": null,
   "metadata": {},
   "outputs": [],
   "source": [
    "#金沢-富山/富山-糸魚川間での着雪量の違いを可視化する\n",
    "#金沢駅での着雪量が0,かつ着雪があった車両が富山,糸魚川の両駅に停車する条件での着雪量\n",
    "train.loc[train['rail_number'].isin(kanazawa_nosnow),'start_from_zero'] = 1\n",
    "train['start_from_zero'] = train['start_from_zero'].fillna(0)\n",
    "data = train[train['sum']>0][train['start_from_zero']==1].sort_values(['date','rail_number','stop_station'])\n",
    "data = data[data.iloc[:,:2].duplicated(keep=False)]\n",
    "\n",
    "#区間ごとの着雪量\n",
    "data['kanazawa-toyama'] = data.groupby(['date','rail_number'])['sum'].transform(lambda x: x.iloc[0])\n",
    "data['toyama-itoi'] = data.groupby(['date','rail_number'])['sum'].transform(lambda x: x.max()-x.min())\n",
    "data['section_ratio'] = data['kanazawa-toyama']/data['toyama-itoi']\n",
    "data_uni = data[data.iloc[:,:2].duplicated()]\n",
    "\n",
    "display(data.head(6))\n",
    "display(data_uni)"
   ]
  },
  {
   "cell_type": "code",
   "execution_count": null,
   "metadata": {},
   "outputs": [],
   "source": [
    "fig = plt.figure(facecolor='w',figsize=(6,6))\n",
    "\n",
    "#2区間での着雪量の可視化\n",
    "ax = fig.add_subplot(1, 2, 1)\n",
    "sns.boxplot(x=['kanazawa-toyama','toyama-itoi'], y=[data_uni['kanazawa-toyama'],data_uni['toyama-itoi']])\n",
    "ax.set_ylabel('target')\n",
    "\n",
    "#2区間での着雪量比の可視化\n",
    "ax = fig.add_subplot(1, 2, 2)\n",
    "sns.boxplot(x=['section_ratio'], y=[data_uni['section_ratio']])\n",
    "ax.set_ylabel('ratio')\n",
    "\n",
    "fig.subplots_adjust(hspace=.2,wspace=.2)\n",
    "plt.show()\n",
    "\n",
    "len_kanazawa_toyama = station_data['field_total_length'].iloc[2]\n",
    "len_toyama_itoi = station_data['field_total_length'].iloc[4]- station_data['field_total_length'].iloc[2]\n",
    "length_ratio = len_kanazawa_toyama/len_toyama_itoi\n",
    "\n",
    "print('section_length\\nkanazawa-toyama:{:.2f}km\\ntoyama-itoi:{:.2f}km'.format(len_kanazawa_toyama,len_toyama_itoi))\n",
    "print('length_ratio(kanazawa-toyama/toyama-itoi):{}'.format(length_ratio))\n",
    "print('------------------------')\n",
    "print('target_ratio(kanazawa_toyama/toyama-itoi):\\n{}'.format(data_uni['section_ratio'].values))"
   ]
  },
  {
   "cell_type": "code",
   "execution_count": null,
   "metadata": {},
   "outputs": [],
   "source": [
    "#気象情報を結合\n",
    "data_w = data.copy()\n",
    "start_hour = pd.Series(pd.to_datetime(diagram['金沢']).dt.hour,name='start_hour')\n",
    "data_w = pd.merge(data_w,start_hour,how='left',left_on='rail_number',right_index=True)\n",
    "\n",
    "data_w['datetime'] = pd.to_datetime(data_w['date'].astype(str) + ' ' + data_w['start_hour'].astype(str) + ':00')\n",
    "data_w = pd.merge(data_w,weather,how='left',left_on=['stop_station','datetime'],right_on=['location','datetime'])\n",
    "data_w = data_w.drop(['start_hour','location'],axis=1)\n",
    "data_w = data_w.sort_values(['section_ratio','rail_number','stop_station'],ascending=False)\n",
    "\n",
    "#金沢-富山区間での着雪量が多いものを可視化\n",
    "display(data_w[:10])"
   ]
  }
 ],
 "metadata": {
  "kernelspec": {
   "display_name": "Python 3",
   "language": "python",
   "name": "python3"
  },
  "language_info": {
   "codemirror_mode": {
    "name": "ipython",
    "version": 3
   },
   "file_extension": ".py",
   "mimetype": "text/x-python",
   "name": "python",
   "nbconvert_exporter": "python",
   "pygments_lexer": "ipython3",
   "version": "3.7.4"
  },
  "pycharm": {
   "stem_cell": {
    "cell_type": "raw",
    "metadata": {
     "collapsed": false
    },
    "source": []
   }
  }
 },
 "nbformat": 4,
 "nbformat_minor": 1
}
